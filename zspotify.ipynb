{
  "nbformat": 4,
  "nbformat_minor": 0,
  "metadata": {
    "colab": {
      "name": "ZSpotifyColab.ipynb",
      "provenance": []
    },
    "kernelspec": {
      "name": "python3",
      "display_name": "Python 3"
    },
    "language_info": {
      "name": "python"
    }
  },
  "cells": [
    {
      "cell_type": "code",
      "metadata": {
        "cellView": "form",
        "id": "UBROi5qcLcpf"
      },
      "source": [
        "#@markdown ឵឵ ឵\n",
        "#@markdown <center><img src=\"https://user-images.githubusercontent.com/35679186/141209937-049e8a52-95fd-4028-aa6c-d70670cd0171.png\" width=\"500px\"></center>"
      ],
      "execution_count": null,
      "outputs": []
    },
    {
      "cell_type": "code",
      "metadata": {
        "id": "345DQno2G3wR",
        "cellView": "form"
      },
      "source": [
        "#@title __✦ Mount Google Drive and Install dependencies__\n",
        "from IPython.display import clear_output\n",
        "from google.colab import drive\n",
        "import shutil\n",
        "drive.mount('/content/drive', force_remount=True)\n",
        "!echo \"Installing Dependencies:\"\n",
        "!add-apt-repository --yes ppa:deadsnakes/ppa\n",
        "!apt install --yes python3.9 python3.9-distutils ffmpeg rar\n",
        "!wget https://bootstrap.pypa.io/get-pip.py && python3.9 get-pip.py\n",
        "!python3.9 get-pip.py\n",
        "!git clone https://github.com/Footsiefat/zspotify\n",
        "!python3.9 -m pip install -r zspotify/requirements.txt\n",
        "!rm /content/zspotify/zs_config.json\n",
        "!rm /content/get-pip.py\n",
        "!curl -O https://raw.githubusercontent.com/Ori5000/zspotifycolab/main/zs_config.json\n",
        "shutil.move('/content/zs_config.json', '/content/zspotify/zs_config.json')\n",
        "clear_output()\n",
        "!echo \"Done!\""
      ],
      "execution_count": null,
      "outputs": []
    },
    {
      "cell_type": "code",
      "metadata": {
        "id": "hSVJ84o0MV2-",
        "cellView": "form"
      },
      "source": [
        "#@title __⬅️ Upload `credentials.json` (Optional)__\n",
        "from google.colab import files\n",
        "\n",
        "uploaded = files.upload()\n",
        "\n",
        "for fn in uploaded.keys():\n",
        "  print('Uploaded \"{name}\" successfully!'.format(\n",
        "      name=fn))"
      ],
      "execution_count": null,
      "outputs": []
    },
    {
      "cell_type": "code",
      "metadata": {
        "id": "kw3BTlN3HGzj",
        "cellView": "form"
      },
      "source": [
        "#@title __⬅️ Download from Spotify!__\n",
        "URL = \"\" #@param {type:\"string\"}\n",
        "savedPlaylist = False #@param {type:\"boolean\"}\n",
        "likedSongs = False #@param {type:\"boolean\"}\n",
        "if savedPlaylist == True:\n",
        "  !python3.9 zspotify/zspotify -ns -p\n",
        "elif likedSongs == True:\n",
        "  !python3.9 zspotify/zspotify -ns -ls\n",
        "else:\n",
        "  !python3.9 zspotify/zspotify -ns {URL}"
      ],
      "execution_count": null,
      "outputs": []
    },
    {
      "cell_type": "code",
      "metadata": {
        "id": "YedRAKDlx1YZ",
        "cellView": "form"
      },
      "source": [
        "#@title __⬅️ Rar Album__\n",
        "Source = \"/content/Downloads/Music/Artist/Album\" #@param {type:\"string\"}\n",
        "Filename = \"Artist - Album\" #@param {type:\"string\"}\n",
        "password = False #@param {type:\"boolean\"}\n",
        "if password == True:\n",
        "  !rar a -p \"/content/{Filename}\" \"{Source}\"\n",
        "else:\n",
        "  !rar a \"/content/{Filename}\" \"{Source}\""
      ],
      "execution_count": null,
      "outputs": []
    },
    {
      "cell_type": "code",
      "metadata": {
        "id": "UMDUlkS5bmLk",
        "cellView": "form"
      },
      "source": [
        "#@title __⬅️ Move to Google Drive__\n",
        "source = \"/content/Downloads/Music/\"#@param {type:\"string\"}\n",
        "destination = \"/content/drive/Shared drives/SharedDrive1/\"#@param {type:\"string\"}\n",
        "\n",
        "import shutil\n",
        "shutil.move(source, destination)"
      ],
      "execution_count": null,
      "outputs": []
    }
  ]
}
