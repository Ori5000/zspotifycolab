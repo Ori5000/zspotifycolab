{
  "nbformat": 4,
  "nbformat_minor": 0,
  "metadata": {
    "colab": {
      "name": "ZSpotifyColab.ipynb",
      "provenance": []
    },
    "kernelspec": {
      "name": "python3",
      "display_name": "Python 3"
    },
    "language_info": {
      "name": "python"
    }
  },
  "cells": [
    {
      "cell_type": "code",
      "metadata": {
        "cellView": "form",
        "id": "UBROi5qcLcpf"
      },
      "source": [
        "#@markdown ឵឵ ឵\n",
        "#@markdown <center><img src=\"https://user-images.githubusercontent.com/35679186/141209937-049e8a52-95fd-4028-aa6c-d70670cd0171.png\" width=\"500px\"></center>"
      ],
      "execution_count": null,
      "outputs": []
    },
    {
      "cell_type": "code",
      "metadata": {
        "id": "345DQno2G3wR",
        "cellView": "form"
      },
      "source": [
        "#@title __✦ Mount Google Drive and Install dependencies__\n",
        "#@markdown Note: Upload `credentials.json` to your Google Drive **root** folder to use these credentials instead of logging-in every single session. \n",
        "from IPython.display import clear_output\n",
        "from google.colab import drive\n",
        "from pathlib import Path\n",
        "import shutil\n",
        "drive._mount('/content/drive', force_remount=True)\n",
        "!echo \"Installing Dependencies:\"\n",
        "!add-apt-repository --yes ppa:deadsnakes/ppa\n",
        "!apt install --yes python3.9 python3.9-distutils ffmpeg rar\n",
        "!wget https://bootstrap.pypa.io/get-pip.py && python3.9 get-pip.py\n",
        "!python3.9 get-pip.py\n",
        "!curl -O https://web.archive.org/web/20211023110559if_/https://codeload.github.com/Footsiefat/zspotify/zip/refs/heads/main && mv '/content/main' '/content/zspotify.zip'\n",
        "!unzip zspotify.zip\n",
        "!python3.9 -m pip install -r '/content/zspotify-main/requirements.txt'\n",
        "!rm zspotify.zip\n",
        "!rm /content/zspotify-main/zs_config.json\n",
        "!rm /content/get-pip.py\n",
        "!curl -O https://raw.githubusercontent.com/Ori5000/zspotifycolab/main/zs_config.json\n",
        "shutil.move('/content/zs_config.json', '/content/zspotify-main/zs_config.json')\n",
        "credentials = Path(\"/content/drive/MyDrive/credentials.json\")\n",
        "if credentials.is_file():\n",
        "  !cp /content/drive/MyDrive/credentials.json /content/zspotify-main/credentials.json\n",
        "else:\n",
        "  pass\n",
        "clear_output()\n",
        "!echo \"Done!\""
      ],
      "execution_count": null,
      "outputs": []
    },
    {
      "cell_type": "code",
      "metadata": {
        "id": "kw3BTlN3HGzj",
        "cellView": "form"
      },
      "source": [
        "#@title __⬅️ Download from Spotify!__\n",
        "#@markdown Note: Use `Rar` and `RarPassword` options if you want to get a .rar file after the download ended.\n",
        "Type = \"Search\" #@param [\"Search\", \"URL\", \"Personal Playlists\", \"Liked Songs\"]\n",
        "Rar = False #@param {type:\"boolean\"}\n",
        "RarPassword = False #@param {type:\"boolean\"}\n",
        "from IPython.display import clear_output\n",
        "import json\n",
        "if Type == \"Search\":\n",
        "  !cd zspotify-main && python3.9 zspotify.py\n",
        "elif Type == \"URL\":\n",
        "  URL = input('Enter the Spotify URL: ')\n",
        "  !cd zspotify-main && python3.9 zspotify.py {URL}\n",
        "elif Type == \"Personal Playlists\":\n",
        "  !cd zspotify-main && python3.9 zspotify.py -p\n",
        "else:\n",
        "  !cd zspotify-main && python3.9 zspotify.py -ls\n",
        "if Rar == True:\n",
        "  with open('/content/zspotify-main/zs_config.json','r') as file:\n",
        "    data = json.load(file)\n",
        "    ROOT_PATH = data['ROOT_PATH']\n",
        "  Filename = input('Enter the .rar file name: ')\n",
        "  if RarPassword == True:\n",
        "    !rar a -p '{ROOT_PATH}{Filename}' '{ROOT_PATH}'\n",
        "  else:\n",
        "    !rar a '{ROOT_PATH}{Filename}' '{ROOT_PATH}'\n",
        "else:\n",
        "  pass\n",
        "clear_output()\n",
        "!echo \"Done!\""
      ],
      "execution_count": null,
      "outputs": []
    },
    {
      "cell_type": "code",
      "metadata": {
        "id": "vOTTdTVBNi11",
        "cellView": "form"
      },
      "source": [
        "#@title __⬅️ Custom configuration__\n",
        "#@markdown Note: Use `isSharedDrive` if you want your music to be downloaded to a Google Shared Drive.\n",
        "from IPython.display import clear_output\n",
        "import shutil\n",
        "Drive = \"MyDrive\" #@param {type:\"string\"}\n",
        "isSharedDrive = False #@param {type:\"boolean\"}\n",
        "ForcePremium = False #@param {type:\"boolean\"}\n",
        "DownloadFormat = \"ogg\" #@param [\"ogg\", \"mp3\"]\n",
        "ForcePremium = False #@param {type:\"boolean\"}\n",
        "RawAudioAsIs = False #@param {type:\"boolean\"}\n",
        "AntiBanWaitTime = 1 #@param {type:\"slider\", min:1, max:120, step:1}\n",
        "\n",
        "!rm /content/zspotify-main/zs_config.json\n",
        "!curl -O https://raw.githubusercontent.com/Ori5000/zspotifycolab/main/zs_config.json\n",
        "shutil.move('/content/zs_config.json', '/content/zspotify-main/zs_config.json')\n",
        "\n",
        "fin = open(\"/content/zspotify-main/zs_config.json\", \"rt\")\n",
        "data = fin.read()\n",
        "if isSharedDrive == True:\n",
        "  data = data.replace('MyDrive', 'Shareddrives/{}'.format(Drive))\n",
        "else:\n",
        "  data = data.replace('MyDrive', Drive)\n",
        "data = data.replace('ogg', DownloadFormat)\n",
        "if ForcePremium == True:\n",
        "  data = data.replace('\"FORCE_PREMIUM\": false', '\"FORCE_PREMIUM\": true')\n",
        "else:\n",
        "  pass\n",
        "if RawAudioAsIs == True:\n",
        "  data = data.replace('\"RAW_AUDIO_AS_IS\": false', '\"RAW_AUDIO_AS_IS\": true')\n",
        "else:\n",
        "  pass\n",
        "data = data.replace('\"ANTI_BAN_WAIT_TIME\": 1', '\"ANTI_BAN_WAIT_TIME\": {}'.format(AntiBanWaitTime))\n",
        "fin.close()\n",
        "fin = open(\"/content/zspotify-main/zs_config.json\", \"wt\")\n",
        "fin.write(data)\n",
        "fin.close()\n",
        "clear_output()\n",
        "!echo \"Done!\""
      ],
      "execution_count": null,
      "outputs": []
    }
  ]
}
