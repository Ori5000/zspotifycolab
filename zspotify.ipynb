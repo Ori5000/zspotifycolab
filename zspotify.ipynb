{
  "nbformat": 4,
  "nbformat_minor": 0,
  "metadata": {
    "colab": {
      "name": "ZSpotifyColab.ipynb",
      "provenance": []
    },
    "kernelspec": {
      "name": "python3",
      "display_name": "Python 3"
    },
    "language_info": {
      "name": "python"
    }
  },
  "cells": [
    {
      "cell_type": "code",
      "metadata": {
        "cellView": "form",
        "id": "UBROi5qcLcpf"
      },
      "source": [
        "#@markdown ឵឵ ឵\n",
        "#@markdown <center><img src=\"https://user-images.githubusercontent.com/12180913/138040605-c9d46e45-3830-4a4b-a7ac-c56bb0d76335.png\" width=\"428px\"></center>"
      ],
      "execution_count": null,
      "outputs": []
    },
    {
      "cell_type": "code",
      "metadata": {
        "cellView": "form",
        "id": "345DQno2G3wR"
      },
      "source": [
        "#@title __✦ Mount Google Drive and Install dependencies__\n",
        "from IPython.display import clear_output\n",
        "from google.colab import drive\n",
        "import shutil\n",
        "drive.mount('/content/drive', force_remount=True)\n",
        "!echo \"Installing Dependencies:\"\n",
        "!apt install git\n",
        "!apt install ffmpeg\n",
        "!git clone https://github.com/Footsiefat/zspotify\n",
        "!pip install -r zspotify/requirements.txt\n",
        "!rm /content/zspotify/zs_config.json\n",
        "!curl -O https://raw.githubusercontent.com/Ori5000/zspotifycolab/main/zs_config.json\n",
        "shutil.move('/content/zs_config.json', '/content/zspotify/zs_config.json')\n",
        "clear_output()\n",
        "!echo \"Done!\""
      ],
      "execution_count": null,
      "outputs": []
    },
    {
      "cell_type": "code",
      "metadata": {
        "cellView": "form",
        "id": "hSVJ84o0MV2-"
      },
      "source": [
        "#@title __⬅️ Upload `credentials.json` (Optional)__\n",
        "from google.colab import files\n",
        "\n",
        "uploaded = files.upload()\n",
        "\n",
        "for fn in uploaded.keys():\n",
        "  print('Uploaded \"{name}\" successfully!'.format(\n",
        "      name=fn))"
      ],
      "execution_count": null,
      "outputs": []
    },
    {
      "cell_type": "code",
      "metadata": {
        "cellView": "form",
        "id": "kw3BTlN3HGzj"
      },
      "source": [
        "#@title __⬅️ Download from Spotify!__\n",
        "playlist = False #@param {type:\"boolean\"}\n",
        "likedSongs = False #@param {type:\"boolean\"}\n",
        "if playlist == True:\n",
        "  !python zspotify/zspotify -p\n",
        "elif likedSongs == True:\n",
        "  !python zspotify/zspotify -ls\n",
        "else:\n",
        "  !python zspotify/zspotify"
      ],
      "execution_count": null,
      "outputs": []
    },
    {
      "cell_type": "code",
      "metadata": {
        "id": "UMDUlkS5bmLk",
        "cellView": "form"
      },
      "source": [
        "#@title __⬅️ Move to Google Drive__\n",
        "source = \"/content/Downloads/Music/\"#@param {type:\"string\"}\n",
        "destination = \"/content/drive/Shared drives/SharedDrive1/\"#@param {type:\"string\"}\n",
        "\n",
        "import shutil\n",
        "shutil.move(source, destination)"
      ],
      "execution_count": null,
      "outputs": []
    }
  ]
}
